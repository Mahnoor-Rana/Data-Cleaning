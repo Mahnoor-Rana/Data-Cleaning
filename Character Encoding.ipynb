{
 "cells": [
  {
   "cell_type": "markdown",
   "id": "fd2954e7",
   "metadata": {},
   "source": [
    "## Importing Libraries"
   ]
  },
  {
   "cell_type": "code",
   "execution_count": 1,
   "id": "511c014d",
   "metadata": {},
   "outputs": [],
   "source": [
    "import pandas as pd\n",
    "import numpy as np\n",
    "\n",
    "# helpful character encoding module\n",
    "import chardet\n",
    "\n",
    "# set seed for reproducibility\n",
    "np.random.seed(0)"
   ]
  },
  {
   "cell_type": "markdown",
   "id": "e0a7ea75",
   "metadata": {},
   "source": [
    "## What are encodings?"
   ]
  },
  {
   "cell_type": "markdown",
   "id": "f02804eb",
   "metadata": {},
   "source": [
    "You're working with a dataset composed of bytes."
   ]
  },
  {
   "cell_type": "code",
   "execution_count": 4,
   "id": "39a71fdc",
   "metadata": {},
   "outputs": [
    {
     "name": "stdout",
     "output_type": "stream",
     "text": [
      "b'\\xa7A\\xa6n'\n",
      "data type: <class 'bytes'>\n"
     ]
    }
   ],
   "source": [
    "sample_entry = b'\\xa7A\\xa6n'\n",
    "print(sample_entry)\n",
    "print('data type:', type(sample_entry))\n"
   ]
  },
  {
   "cell_type": "code",
   "execution_count": 5,
   "id": "dae64371",
   "metadata": {},
   "outputs": [],
   "source": [
    "before = sample_entry.decode(\"big5-tw\")\n",
    "new_entry = before.encode()"
   ]
  },
  {
   "cell_type": "markdown",
   "id": "ab2c7e7f",
   "metadata": {},
   "source": [
    "## Reading in files with encoding problems"
   ]
  },
  {
   "cell_type": "code",
   "execution_count": 6,
   "id": "dc9e2f9a",
   "metadata": {},
   "outputs": [],
   "source": [
    "police_killings = pd.read_csv(\"PoliceKillingsUS (1).csv\", encoding='Windows-1252')"
   ]
  },
  {
   "cell_type": "markdown",
   "id": "83d398cc",
   "metadata": {},
   "source": [
    "## Saving your files with UTF-8 encoding"
   ]
  },
  {
   "cell_type": "code",
   "execution_count": 8,
   "id": "717cacfb",
   "metadata": {},
   "outputs": [],
   "source": [
    "# Save the police killings dataset to CSV\n",
    "police_killings.to_csv(\"my_file.csv\")\n"
   ]
  }
 ],
 "metadata": {
  "kernelspec": {
   "display_name": "Python 3 (ipykernel)",
   "language": "python",
   "name": "python3"
  },
  "language_info": {
   "codemirror_mode": {
    "name": "ipython",
    "version": 3
   },
   "file_extension": ".py",
   "mimetype": "text/x-python",
   "name": "python",
   "nbconvert_exporter": "python",
   "pygments_lexer": "ipython3",
   "version": "3.9.12"
  }
 },
 "nbformat": 4,
 "nbformat_minor": 5
}
